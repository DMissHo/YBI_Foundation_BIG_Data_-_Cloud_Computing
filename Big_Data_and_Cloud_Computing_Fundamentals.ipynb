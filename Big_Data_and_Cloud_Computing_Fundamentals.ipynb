{
  "nbformat": 4,
  "nbformat_minor": 0,
  "metadata": {
    "colab": {
      "provenance": []
    },
    "kernelspec": {
      "name": "python3",
      "display_name": "Python 3"
    },
    "language_info": {
      "name": "python"
    }
  },
  "cells": [
    {
      "cell_type": "markdown",
      "source": [
        "# **Big Data**"
      ],
      "metadata": {
        "id": "DbpWA44lLDD7"
      }
    },
    {
      "cell_type": "code",
      "source": [
        "!pip install pyspark"
      ],
      "metadata": {
        "id": "03bvoThCOsed"
      },
      "execution_count": null,
      "outputs": []
    },
    {
      "cell_type": "code",
      "source": [
        "import pyspark"
      ],
      "metadata": {
        "id": "n2s9eKp7O0SC"
      },
      "execution_count": null,
      "outputs": []
    },
    {
      "cell_type": "code",
      "source": [
        "from pyspark.sql import SparkSession"
      ],
      "metadata": {
        "id": "gVc9hTDxO0VN"
      },
      "execution_count": null,
      "outputs": []
    },
    {
      "cell_type": "code",
      "source": [
        "spark = SparkSession.builder.getOrCreate()"
      ],
      "metadata": {
        "id": "fWJ6435yO0Xy"
      },
      "execution_count": null,
      "outputs": []
    },
    {
      "cell_type": "code",
      "source": [
        "spark"
      ],
      "metadata": {
        "colab": {
          "base_uri": "https://localhost:8080/",
          "height": 219
        },
        "id": "IqYmWcVLPthQ",
        "outputId": "fbbfa8ab-7a8c-4d5a-9e1a-3f4c0b6befd6"
      },
      "execution_count": null,
      "outputs": [
        {
          "output_type": "execute_result",
          "data": {
            "text/plain": [
              "<pyspark.sql.session.SparkSession at 0x78bd8e58a1a0>"
            ],
            "text/html": [
              "\n",
              "            <div>\n",
              "                <p><b>SparkSession - in-memory</b></p>\n",
              "                \n",
              "        <div>\n",
              "            <p><b>SparkContext</b></p>\n",
              "\n",
              "            <p><a href=\"http://5d22b5dc0585:4040\">Spark UI</a></p>\n",
              "\n",
              "            <dl>\n",
              "              <dt>Version</dt>\n",
              "                <dd><code>v3.5.1</code></dd>\n",
              "              <dt>Master</dt>\n",
              "                <dd><code>local[*]</code></dd>\n",
              "              <dt>AppName</dt>\n",
              "                <dd><code>pyspark-shell</code></dd>\n",
              "            </dl>\n",
              "        </div>\n",
              "        \n",
              "            </div>\n",
              "        "
            ]
          },
          "metadata": {},
          "execution_count": 11
        }
      ]
    },
    {
      "cell_type": "code",
      "source": [
        "#spark.stop()"
      ],
      "metadata": {
        "id": "-j3OE3GOPwmo"
      },
      "execution_count": null,
      "outputs": []
    },
    {
      "cell_type": "code",
      "source": [
        "sdf = spark.read.csv('/content/HR50k.csv',header=True,inferSchema=True)"
      ],
      "metadata": {
        "id": "Gl-Ivc6MQuoS"
      },
      "execution_count": null,
      "outputs": []
    },
    {
      "cell_type": "code",
      "source": [
        "sdf.show(2)"
      ],
      "metadata": {
        "id": "s960zfg6Ruvd"
      },
      "execution_count": null,
      "outputs": []
    },
    {
      "cell_type": "code",
      "source": [
        "sdf.dtypes"
      ],
      "metadata": {
        "id": "uZHw8yllR08F"
      },
      "execution_count": null,
      "outputs": []
    },
    {
      "cell_type": "code",
      "source": [
        "sdf.printSchema()"
      ],
      "metadata": {
        "id": "gZWkJw6CSDBM"
      },
      "execution_count": null,
      "outputs": []
    },
    {
      "cell_type": "code",
      "source": [
        "sdf.columns"
      ],
      "metadata": {
        "id": "u7AELaSWS3kC"
      },
      "execution_count": null,
      "outputs": []
    },
    {
      "cell_type": "code",
      "source": [
        "sdf.describe().show()"
      ],
      "metadata": {
        "colab": {
          "base_uri": "https://localhost:8080/"
        },
        "id": "V_bfFOULTBBV",
        "outputId": "2d0e437f-f561-401c-f09e-cc613ef95db5"
      },
      "execution_count": null,
      "outputs": [
        {
          "output_type": "stream",
          "name": "stdout",
          "text": [
            "+-------+-----------------+---------+--------------+------------------+----------+------------------+------------------+----------------+-------------+-----------------+-----------------------+------+-----------------+-----------------+------------------+--------------------+------------------+-------------+------------------+------------------+------------------+------+--------+------------------+------------------+------------------------+-------------+------------------+------------------+---------------------+------------------+-----------------+------------------+-----------------------+--------------------+\n",
            "|summary|              Age|Attrition|BusinessTravel|         DailyRate|Department|  DistanceFromHome|         Education|  EducationField|EmployeeCount|   EmployeeNumber|EnvironmentSatisfaction|Gender|       HourlyRate|   JobInvolvement|          JobLevel|             JobRole|   JobSatisfaction|MaritalStatus|     MonthlyIncome|       MonthlyRate|NumCompaniesWorked|Over18|OverTime| PercentSalaryHike| PerformanceRating|RelationshipSatisfaction|StandardHours|  StockOptionLevel| TotalWorkingYears|TrainingTimesLastYear|   WorkLifeBalance|   YearsAtCompany|YearsInCurrentRole|YearsSinceLastPromotion|YearsWithCurrManager|\n",
            "+-------+-----------------+---------+--------------+------------------+----------+------------------+------------------+----------------+-------------+-----------------+-----------------------+------+-----------------+-----------------+------------------+--------------------+------------------+-------------+------------------+------------------+------------------+------+--------+------------------+------------------+------------------------+-------------+------------------+------------------+---------------------+------------------+-----------------+------------------+-----------------------+--------------------+\n",
            "|  count|            50000|    50000|         50000|             50000|     50000|             50000|             50000|           50000|        50000|            50000|                  50000| 50000|            50000|            50000|             50000|               50000|             50000|        50000|             50000|             50000|             50000| 50000|   50000|             50000|             50000|                   50000|        50000|             50000|             50000|                50000|             50000|            50000|             50000|                  50000|               50000|\n",
            "|   mean|         38.97148|     NULL|          NULL|         798.67756|      NULL|          25.53978|            3.0046|            NULL|          1.0|          25000.5|                2.49836|  NULL|        115.43294|          2.50262|           2.99464|                NULL|           2.48738|         NULL|       26015.78126|      404043.57942|             3.999|  NULL|    NULL|          24.61832|           2.49596|                 2.50222|         80.0|           2.50378|          20.49686|              3.49398|           2.49872|          10.7711|            5.9073|                5.87182|             5.88904|\n",
            "| stddev|12.42083379455027|     NULL|          NULL|405.08021678685725|      NULL|14.339955726507823|1.4142485078573823|            NULL|          0.0|14433.90106658626|      1.119670658563342|  NULL|49.42486660887611|1.120543728716091|1.4159983656160842|                NULL|1.1163089440263205|         NULL|14410.977499609877|340190.81112818094| 2.582373399229366|  NULL|    NULL|14.405000189455322|1.1180915351497904|      1.1179177368667783|          0.0|1.1189328629614141|11.575819199184258|   1.7081516663464946|1.1141199158365949|8.934229748513532| 6.034377762810301|      5.999055730779056|   6.009613147899259|\n",
            "|    min|               18|       No|    Non-Travel|               100|  Hardware|                 1|                 1| Human Resources|            1|                1|                      1|Female|               30|                1|                 1|           Developer|                 1|     Divorced|              1001|              1007|                 0|     Y|      No|                 0|                 1|                       1|           80|                 1|                 1|                    1|                 1|                1|                 1|                      1|                   1|\n",
            "|    max|               60|      Yes| Travel_Rarely|              1500|   Support|                50|                 5|Technical Degree|            1|            50000|                      4|  Male|              200|                4|                 5|Sales Representative|                 4|       Single|             50999|           1528290|                 8|     Y|     Yes|                49|                 4|                       4|           80|                 4|                40|                    6|                 4|               40|                40|                     40|                  40|\n",
            "+-------+-----------------+---------+--------------+------------------+----------+------------------+------------------+----------------+-------------+-----------------+-----------------------+------+-----------------+-----------------+------------------+--------------------+------------------+-------------+------------------+------------------+------------------+------+--------+------------------+------------------+------------------------+-------------+------------------+------------------+---------------------+------------------+-----------------+------------------+-----------------------+--------------------+\n",
            "\n"
          ]
        }
      ]
    },
    {
      "cell_type": "code",
      "source": [
        "sdf.select(['Age','Education']).show()"
      ],
      "metadata": {
        "id": "hkEaVTg9THzj"
      },
      "execution_count": null,
      "outputs": []
    },
    {
      "cell_type": "code",
      "source": [
        "sdf['Age']<20"
      ],
      "metadata": {
        "colab": {
          "base_uri": "https://localhost:8080/"
        },
        "id": "GEKV2pW7UDP4",
        "outputId": "4680dded-47da-4c4f-d84e-63b5e78d5f47"
      },
      "execution_count": null,
      "outputs": [
        {
          "output_type": "execute_result",
          "data": {
            "text/plain": [
              "Column<'(Age < 20)'>"
            ]
          },
          "metadata": {},
          "execution_count": 29
        }
      ]
    },
    {
      "cell_type": "code",
      "source": [
        "sdf['MaritalStatus']=='Married'"
      ],
      "metadata": {
        "colab": {
          "base_uri": "https://localhost:8080/"
        },
        "id": "KHPKPzXEVYto",
        "outputId": "3ffaaaf6-91d9-43d2-aaf4-b59e2a491d83"
      },
      "execution_count": null,
      "outputs": [
        {
          "output_type": "execute_result",
          "data": {
            "text/plain": [
              "Column<'(MaritalStatus = Married)'>"
            ]
          },
          "metadata": {},
          "execution_count": 31
        }
      ]
    },
    {
      "cell_type": "code",
      "source": [
        "sdf.filter((sdf['Age']<20)&(sdf['MaritalStatus']=='Married')).show()"
      ],
      "metadata": {
        "id": "2_J0cghaVBnA"
      },
      "execution_count": null,
      "outputs": []
    },
    {
      "cell_type": "code",
      "source": [
        "sdf.groupBy('EducationField').mean().show()"
      ],
      "metadata": {
        "id": "6RYozSd_VJD8"
      },
      "execution_count": null,
      "outputs": []
    },
    {
      "cell_type": "code",
      "source": [
        "sdf.groupBy('EducationField').max().show()"
      ],
      "metadata": {
        "id": "VaRpPrpkWFuH"
      },
      "execution_count": null,
      "outputs": []
    },
    {
      "cell_type": "code",
      "source": [
        "sdf.orderBy(sdf['Age'].desc()).show()"
      ],
      "metadata": {
        "id": "NFF2CadSWfiE"
      },
      "execution_count": null,
      "outputs": []
    },
    {
      "cell_type": "code",
      "source": [
        "sdf.dropna().show()"
      ],
      "metadata": {
        "id": "gDLq5F3CWozA"
      },
      "execution_count": null,
      "outputs": []
    },
    {
      "cell_type": "code",
      "source": [],
      "metadata": {
        "id": "Z3wOIlEHW4Tz"
      },
      "execution_count": null,
      "outputs": []
    }
  ]
}